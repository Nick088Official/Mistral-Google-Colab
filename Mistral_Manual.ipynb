{
  "nbformat": 4,
  "nbformat_minor": 0,
  "metadata": {
    "colab": {
      "provenance": [],
      "authorship_tag": "ABX9TyOkFMXVomHQrUoJQYh1LbuE",
      "include_colab_link": true
    },
    "kernelspec": {
      "name": "python3",
      "display_name": "Python 3"
    },
    "language_info": {
      "name": "python"
    }
  },
  "cells": [
    {
      "cell_type": "markdown",
      "metadata": {
        "id": "view-in-github",
        "colab_type": "text"
      },
      "source": [
        "<a href=\"https://colab.research.google.com/github/Nick088Official/Mistral-Google-Colab/blob/main/Mistral_Manual.ipynb\" target=\"_parent\"><img src=\"https://colab.research.google.com/assets/colab-badge.svg\" alt=\"Open In Colab\"/></a>"
      ]
    },
    {
      "cell_type": "markdown",
      "source": [
        "# Run Mistral 7B AI Models\n",
        "\n",
        "GPU REQUIRED FOR THIS GOOGLE COLAB\n",
        "\n",
        "Google Colab Made by [Nick088](https://linktr.ee/Nick088)"
      ],
      "metadata": {
        "id": "r4VDnjpb4Nkq"
      }
    },
    {
      "cell_type": "code",
      "source": [
        "#@title Install & Load Dependencies, Model\n",
        "!pip install einops\n",
        "!pip install accelerate\n",
        "!pip install huggingface_hub\n",
        "import torch\n",
        "from IPython.display import clear_output\n",
        "from huggingface_hub import hf_hub_download\n",
        "\n",
        "if torch.cuda.is_available():\n",
        "    device = \"cuda\"\n",
        "    print(\"Using GPU\")\n",
        "else:\n",
        "    device = \"cpu\"\n",
        "    print(\"Using CPU\")\n",
        "\n",
        "Mistral_Model = \"Mistral-7B-Instruct-v0.2\" #@param ['Mistral-7B-v0.1', 'Mistral-7B-Instruct-v0.2']\n",
        "\n",
        "#@markdown The normal version are the official ones from Mistral and they work only with colabs paid gpus , the other ones are GGUF quantized works on colab free gpu, compressed to consume less ram.\n",
        "\n",
        "GGUF_Format = True #@param {type:\"boolean\"}\n",
        "\n",
        "GGUF_Model_Version = \"Q2_K\" #@param ['Q2_K', 'Q3_K_S', 'Q3_K_M', 'Q3_K_L', 'Q4_0', 'Q4_K_M', 'Q4_K_S', 'Q5_0', 'Q5_K_S', 'Q5_K_M', 'Q6_K', 'Q8_0']\n",
        "\n",
        "if GGUF_Format == False:\n",
        "  from transformers import AutoModelForCausalLM, AutoTokenizer\n",
        "  if device == \"cuda\":\n",
        "    model = AutoModelForCausalLM.from_pretrained(f\"mistralai/{Mistral_Model}\", torch_dtype=\"auto\", trust_remote_code=True)\n",
        "    tokenizer = AutoTokenizer.from_pretrained(f\"mistralai/{Mistral_Model}\", trust_remote_code=True)\n",
        "  else:\n",
        "    model = AutoModelForCausalLM.from_pretrained(f\"mistralai/{Mistral_Model}\", torch_dtype=torch.float32, device_map=\"cpu\", trust_remote_code=True)\n",
        "    tokenizer = AutoTokenizer.from_pretrained(f\"mistralai/{Mistral_Model}\", trust_remote_code=True)\n",
        "else:\n",
        "  Mistral_Model = Mistral_Model.lower()\n",
        "  !nvidia-smi\n",
        "  !CMAKE_ARGS=\"-DLLAMA_CUBLAS=on\" pip install llama-cpp-python\n",
        "  from huggingface_hub import hf_hub_download\n",
        "  from llama_cpp import Llama\n",
        "  model_name = f\"TheBloke/{Mistral_Model}-GGUF\"\n",
        "  model_file = f\"{Mistral_Model}.{GGUF_Model_Version}.gguf\"\n",
        "  model_path = hf_hub_download(model_name,\n",
        "                             filename=model_file,\n",
        "                             local_dir='/content')\n",
        "  from llama_cpp import Llama\n",
        "  llm = Llama(model_path=model_path,\n",
        "            n_gpu_layers=-1)\n",
        "\n",
        "clear_output()\n",
        "if GGUF_Format == False:\n",
        "  print(f\"Downloaded {Mistral_Model}\")\n",
        "else:\n",
        "  print(f\"Downloaded {Mistral_Model} {GGUF_Model_Version}\")"
      ],
      "metadata": {
        "cellView": "form",
        "id": "CS58mn5x4RBf"
      },
      "execution_count": null,
      "outputs": []
    },
    {
      "cell_type": "code",
      "source": [
        "#@title Run Inference\n",
        "#@markdown Your Prompt\n",
        "user_prompt = \"What's Mistral?\" #@param {type:\"string\"}\n",
        "\n",
        "# Additional inputs\n",
        "#@markdown Add your system prompt (prompt to personalize the AI) here or leave it empty if you wanna use the AI normally\n",
        "system_prompt = \"You are ShortAI, write short but concise responses\"  #@param {type:\"string\"}\n",
        "#@markdown The maximum number of tokens that the model will generate in response to your input\n",
        "max_new_tokens = 2000 #@param {type:\"slider\", min:256, max:8192, step:1}\n",
        "#@markdown Penalize repeated tokens, so make the AI repeat less of itself\n",
        "repetition_penalty = 1.5 #@param {type:\"slider\", min:0.0, max:2, step:0.1}\n",
        "\n",
        "# Concatenate system and user prompts\n",
        "full_prompt = system_prompt + user_prompt\n",
        "\n",
        "if GGUF_Format == False:\n",
        "  # Tokenize the combined prompt\n",
        "  inputs = tokenizer(full_prompt, return_tensors=\"pt\", return_attention_mask=False)\n",
        "\n",
        "  # Generate text based on the combined prompt and additional inputs\n",
        "  outputs = model.generate(\n",
        "      **inputs,\n",
        "      max_new_tokens=max_new_tokens,\n",
        "      repetition_penalty=repetition_penalty\n",
        "      )\n",
        "\n",
        "  text = tokenizer.batch_decode(outputs)[0]\n",
        "\n",
        "  # Extract the generated text from the model output\n",
        "  text = text[len(system_prompt):].strip()  # Remove the system prompt from the generated text\n",
        "  clear_output()\n",
        "  print(text)\n",
        "else:\n",
        "  response = llm(full_prompt, max_tokens=max_new_tokens, repeat_penalty=repetition_penalty)\n",
        "  clear_output()\n",
        "  print(response['choices'][0]['text'])"
      ],
      "metadata": {
        "cellView": "form",
        "id": "heTS22ME4Uie"
      },
      "execution_count": null,
      "outputs": []
    }
  ]
}